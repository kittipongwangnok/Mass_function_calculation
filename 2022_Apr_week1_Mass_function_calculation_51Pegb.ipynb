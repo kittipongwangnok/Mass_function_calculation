{
 "cells": [
  {
   "cell_type": "code",
   "execution_count": 9,
   "id": "7cae60ce",
   "metadata": {},
   "outputs": [],
   "source": [
    "import numpy as np\n",
    "import matplotlib.pyplot as plt\n",
    "#Latex font\n",
    "import matplotlib as mpl\n",
    "from matplotlib import rc\n",
    "plt.rc('text', usetex=True)\n",
    "plt.rc('font', family='serif',size=16)"
   ]
  },
  {
   "cell_type": "code",
   "execution_count": 32,
   "id": "446e9a5f",
   "metadata": {},
   "outputs": [],
   "source": [
    "ms = 1.12                   # stellar mass of 51 Peg (M sun)\n",
    "ms_error = 0.06             # error in stellar mass (M sun)\n",
    "P = 4.230730573660922\n",
    "P_error = 3.67819161887776e-05\n",
    "K = 55.60534 \n",
    "K_error = 1.2716319241829976\n",
    "e = 0.012529075233743078\n",
    "e_error = 0.009790799462504215"
   ]
  },
  {
   "cell_type": "code",
   "execution_count": 33,
   "id": "1c3ac91e",
   "metadata": {},
   "outputs": [],
   "source": [
    "P_yr = P/365.2422               # period in years\n",
    "a_au = (ms*P_yr**2)**(1./3)     # semi-major axis in au\n",
    "K_auyr = K*2.1096256684e-4      # K in au/yr"
   ]
  },
  {
   "cell_type": "code",
   "execution_count": 34,
   "id": "3b69d6a4",
   "metadata": {},
   "outputs": [],
   "source": [
    "# compute planet mass and convert to Jupiter-mass units\n",
    "mp = (2*np.pi)**(-1)*K_auyr*np.sqrt(1-e**2)*(ms**2*P_yr)**(1/3)\n",
    "mp_mjup = mp*1047.59421\n",
    "\n",
    "mp_error = mp_mjup * np.sqrt( (2*ms_error/(3*ms))**2 + (K_error/K)**2 + (P_error/(3*P))**2 + (e*e_error/np.sqrt(1-e*e))**2 )"
   ]
  },
  {
   "cell_type": "code",
   "execution_count": 35,
   "id": "2a78be29",
   "metadata": {},
   "outputs": [
    {
     "name": "stdout",
     "output_type": "stream",
     "text": [
      "0.47722646606153585\n",
      "0.020238628088827985\n"
     ]
    }
   ],
   "source": [
    "print(mp_mjup)\n",
    "print(mp_error)"
   ]
  },
  {
   "cell_type": "code",
   "execution_count": null,
   "id": "f4e27897",
   "metadata": {},
   "outputs": [],
   "source": []
  }
 ],
 "metadata": {
  "kernelspec": {
   "display_name": "Python 3 (ipykernel)",
   "language": "python",
   "name": "python3"
  },
  "language_info": {
   "codemirror_mode": {
    "name": "ipython",
    "version": 3
   },
   "file_extension": ".py",
   "mimetype": "text/x-python",
   "name": "python",
   "nbconvert_exporter": "python",
   "pygments_lexer": "ipython3",
   "version": "3.9.7"
  }
 },
 "nbformat": 4,
 "nbformat_minor": 5
}
