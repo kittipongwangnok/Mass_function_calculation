{
 "cells": [
  {
   "cell_type": "code",
   "execution_count": 1,
   "id": "cacd0687",
   "metadata": {},
   "outputs": [],
   "source": [
    "import numpy as np\n",
    "import matplotlib.pyplot as plt\n",
    "#Latex font\n",
    "import matplotlib as mpl\n",
    "from matplotlib import rc\n",
    "plt.rc('text', usetex=True)\n",
    "plt.rc('font', family='serif',size=16)"
   ]
  },
  {
   "cell_type": "code",
   "execution_count": 2,
   "id": "c3ef8101",
   "metadata": {},
   "outputs": [],
   "source": [
    "ms = 0.69                   # stellar mass of DP Leo (M sun)\n",
    "ms_error = 0.06             # error in stellar mass (M sun)\n",
    "P = 10227\n",
    "P_error = 730.5\n",
    "K = 33.7\n",
    "K_error = 1.7\n",
    "e = 0.39\n",
    "e_error = 0.13"
   ]
  },
  {
   "cell_type": "code",
   "execution_count": 3,
   "id": "5a4953b8",
   "metadata": {},
   "outputs": [],
   "source": [
    "P_yr = P/365.2422               # period in years\n",
    "a_au = (ms*P_yr**2)**(1./3)     # semi-major axis in au\n",
    "K_auyr = K*2.1096256684e-4      # K in au/yr"
   ]
  },
  {
   "cell_type": "code",
   "execution_count": 4,
   "id": "3c82109c",
   "metadata": {},
   "outputs": [],
   "source": [
    "# compute planet mass and convert to Jupiter-mass units\n",
    "mp = (2*np.pi)**(-1)*K_auyr*np.sqrt(1-e**2)*(ms**2*P_yr)**(1/3)\n",
    "mp_mjup = mp*1047.59421\n",
    "\n",
    "mp_error = mp_mjup * np.sqrt( (2*ms_error/(3*ms))**2 + (K_error/K)**2 + (P_error/(3*P))**2 + (e*e_error/np.sqrt(1-e*e))**2 )"
   ]
  },
  {
   "cell_type": "code",
   "execution_count": 5,
   "id": "04bfc25c",
   "metadata": {},
   "outputs": [
    {
     "name": "stdout",
     "output_type": "stream",
     "text": [
      "2.5880699072882285\n",
      "0.25230477701349585\n"
     ]
    }
   ],
   "source": [
    "print(mp_mjup)\n",
    "print(mp_error)"
   ]
  },
  {
   "cell_type": "code",
   "execution_count": 6,
   "id": "f229d20a",
   "metadata": {},
   "outputs": [],
   "source": [
    "### Mass function of DP Leo\n",
    "#Parameters\n",
    "a12_sin_i = 0.068             #[AU]\n",
    "da12_sin_i = 0.0034             #[AU]\n",
    "G = 4.30091e-3                  #[pc*M_Solar_mass^(-1)*(km/s)^2]\n",
    "P3_yr = 28                    #[yr]\n",
    "dP3_yr = 2                   #[yr]\n",
    "P3_s  = P3_yr*365.25*24*60*60   #[s]\n",
    "M_t = 0.69                      #[Solar_mass]\n",
    "#print(P3_s)"
   ]
  },
  {
   "cell_type": "code",
   "execution_count": 7,
   "id": "ccbbcaf8",
   "metadata": {},
   "outputs": [
    {
     "name": "stdout",
     "output_type": "stream",
     "text": [
      "0.005770727910646695\n"
     ]
    }
   ],
   "source": [
    "#Try to optimize the formualar of DP Leo\n",
    "Optimized_M3_sin_i3_Ms = (((4*((np.pi)**2))**(1/3))*(a12_sin_i)*(M_t**(2/3)))/(((G*206265*(4.44e-17))**(1/3))*(P3_s**(2/3)))\n",
    "print(Optimized_M3_sin_i3_Ms)                                                                                                       "
   ]
  },
  {
   "cell_type": "code",
   "execution_count": 8,
   "id": "94050428",
   "metadata": {},
   "outputs": [
    {
     "name": "stdout",
     "output_type": "stream",
     "text": [
      "6.047296492346381\n"
     ]
    }
   ],
   "source": [
    "#Mass function calculation: Unit of Jupyter mass\n",
    "M3_sin_i3_Mj = Optimized_M3_sin_i3_Ms/0.000954265748\n",
    "print(M3_sin_i3_Mj)"
   ]
  },
  {
   "cell_type": "code",
   "execution_count": 9,
   "id": "4d5b938c",
   "metadata": {},
   "outputs": [
    {
     "name": "stdout",
     "output_type": "stream",
     "text": [
      "0.41755142447153576\n"
     ]
    }
   ],
   "source": [
    "#Error propagation of the mass function\n",
    "dM3_sin_i3_Mj = np.sqrt((da12_sin_i/a12_sin_i)**2 + (2*dP3_yr/(3*P3_yr))**2)*M3_sin_i3_Mj\n",
    "print(dM3_sin_i3_Mj)"
   ]
  },
  {
   "cell_type": "code",
   "execution_count": 11,
   "id": "54d5c2df",
   "metadata": {},
   "outputs": [
    {
     "name": "stdout",
     "output_type": "stream",
     "text": [
      "0.006772700117508045\n",
      "7.097289336542388\n",
      "0.1213673121986597\n"
     ]
    }
   ],
   "source": [
    "#In this work\n",
    "\n",
    "### Mass function of DP Leo\n",
    "#Parameters\n",
    "a12_sin_i = 0.0987             #[AU]\n",
    "da12_sin_i = 0.0013             #[AU]\n",
    "G = 4.30091e-3                  #[pc*M_Solar_mass^(-1)*(km/s)^2]\n",
    "P3_yr = 38.51                    #[yr]\n",
    "dP3_yr = 0.63                   #[yr]\n",
    "P3_s  = P3_yr*365.25*24*60*60   #[s]\n",
    "M_t = 0.69                      #[Solar_mass]\n",
    "\n",
    "#Try to optimize the formualar of DP Leo\n",
    "Optimized_M3_sin_i3_Ms = (((4*((np.pi)**2))**(1/3))*(a12_sin_i)*(M_t**(2/3)))/(((G*206265*(4.44e-17))**(1/3))*(P3_s**(2/3)))\n",
    "print(Optimized_M3_sin_i3_Ms) \n",
    "\n",
    "#Mass function calculation: Unit of Jupyter mass\n",
    "M3_sin_i3_Mj = Optimized_M3_sin_i3_Ms/0.000954265748\n",
    "print(M3_sin_i3_Mj)\n",
    "\n",
    "#Error propagation of the mass function\n",
    "dM3_sin_i3_Mj = np.sqrt((da12_sin_i/a12_sin_i)**2 + (2*dP3_yr/(3*P3_yr))**2)*M3_sin_i3_Mj\n",
    "print(dM3_sin_i3_Mj)"
   ]
  },
  {
   "cell_type": "code",
   "execution_count": null,
   "id": "25a1ca03",
   "metadata": {},
   "outputs": [],
   "source": [
    "                         "
   ]
  }
 ],
 "metadata": {
  "kernelspec": {
   "display_name": "Python 3 (ipykernel)",
   "language": "python",
   "name": "python3"
  },
  "language_info": {
   "codemirror_mode": {
    "name": "ipython",
    "version": 3
   },
   "file_extension": ".py",
   "mimetype": "text/x-python",
   "name": "python",
   "nbconvert_exporter": "python",
   "pygments_lexer": "ipython3",
   "version": "3.9.7"
  }
 },
 "nbformat": 4,
 "nbformat_minor": 5
}
