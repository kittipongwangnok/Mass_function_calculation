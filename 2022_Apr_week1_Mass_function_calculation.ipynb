{
 "cells": [
  {
   "cell_type": "code",
   "execution_count": 1,
   "id": "00ebcaeb",
   "metadata": {},
   "outputs": [],
   "source": [
    "#Import module\n",
    "import sys\n",
    "import os\n",
    "import numpy as np\n",
    "import matplotlib.pyplot as plt\n",
    "from scipy.optimize import curve_fit\n",
    "from scipy import stats\n",
    "import scipy.optimize as optimization  \n",
    "import pandas as pd\n",
    "#Latex font\n",
    "import matplotlib as mpl\n",
    "from matplotlib import rc\n",
    "plt.rc('text', usetex=True)\n",
    "plt.rc('font', family='serif',size=16)"
   ]
  },
  {
   "cell_type": "code",
   "execution_count": 2,
   "id": "b533be67",
   "metadata": {},
   "outputs": [],
   "source": [
    "#Parameters\n",
    "a12_sin_i = 0.0161              #[AU]\n",
    "G = 4.30091e-3                  #[pc*M_Solar_mass^(-1)*(km/s)^2]\n",
    "P3_yr = 8.97                    #[yr]\n",
    "P3_s  = P3_yr*365.25*24*60*60   #[s]\n",
    "M_t = 0.59                      #[Solar_mass]\n",
    "#print(P3_s)"
   ]
  },
  {
   "cell_type": "code",
   "execution_count": 3,
   "id": "85a517c4",
   "metadata": {},
   "outputs": [
    {
     "name": "stdout",
     "output_type": "stream",
     "text": [
      "0.0026290160288776625\n"
     ]
    }
   ],
   "source": [
    "#Mass function calculation: Unit of Solar mass\n",
    "M3_sin_i3_Ms = (4*((np.pi)**2)*(a12_sin_i**3)*(M_t**2)/(G*206265*(4.44e-17)*(P3_s**2)))**(1/3)\n",
    "print(M3_sin_i3_Ms)"
   ]
  },
  {
   "cell_type": "code",
   "execution_count": 4,
   "id": "e16feb04",
   "metadata": {},
   "outputs": [
    {
     "name": "stdout",
     "output_type": "stream",
     "text": [
      "2.7550145589818054\n"
     ]
    }
   ],
   "source": [
    "#Mass function calculation: Unit of Jupyter mass\n",
    "M3_sin_i3_Mj = M3_sin_i3_Ms/0.000954265748\n",
    "print(M3_sin_i3_Mj)"
   ]
  },
  {
   "cell_type": "code",
   "execution_count": 5,
   "id": "4abb5bd0",
   "metadata": {},
   "outputs": [],
   "source": [
    "### Mass function of DP Leo\n",
    "#Parameters\n",
    "a12_sin_i = 0.068             #[AU]\n",
    "G = 4.30091e-3                  #[pc*M_Solar_mass^(-1)*(km/s)^2]\n",
    "P3_yr = 28                    #[yr]\n",
    "P3_s  = P3_yr*365.25*24*60*60   #[s]\n",
    "M_t = 0.69                      #[Solar_mass]\n",
    "#print(P3_s)"
   ]
  },
  {
   "cell_type": "code",
   "execution_count": 6,
   "id": "33d3b799",
   "metadata": {},
   "outputs": [
    {
     "name": "stdout",
     "output_type": "stream",
     "text": [
      "0.005770727910646695\n"
     ]
    }
   ],
   "source": [
    "#Mass function calculation: Unit of Solar mass\n",
    "M3_sin_i3_Ms = (4*((np.pi)**2)*(a12_sin_i**3)*(M_t**2)/(G*206265*(4.44e-17)*(P3_s**2)))**(1/3)\n",
    "print(M3_sin_i3_Ms)"
   ]
  },
  {
   "cell_type": "code",
   "execution_count": 7,
   "id": "a2ac6f29",
   "metadata": {},
   "outputs": [
    {
     "name": "stdout",
     "output_type": "stream",
     "text": [
      "6.047296492346381\n"
     ]
    }
   ],
   "source": [
    "#Mass function calculation: Unit of Jupyter mass\n",
    "M3_sin_i3_Mj = M3_sin_i3_Ms/0.000954265748\n",
    "print(M3_sin_i3_Mj)"
   ]
  },
  {
   "cell_type": "code",
   "execution_count": 13,
   "id": "6735155a",
   "metadata": {},
   "outputs": [
    {
     "name": "stdout",
     "output_type": "stream",
     "text": [
      "0.005770727910646695\n"
     ]
    }
   ],
   "source": [
    "#Try to optimize the formualar\n",
    "Optimized_M3_sin_i3_Ms = (((4*((np.pi)**2))**(1/3))*(a12_sin_i)*(M_t**(2/3)))/(((G*206265*(4.44e-17))**(1/3))*(P3_s**(2/3)))\n",
    "print(Optimized_M3_sin_i3_Ms)                                                                                                      "
   ]
  },
  {
   "cell_type": "code",
   "execution_count": null,
   "id": "6526004b",
   "metadata": {},
   "outputs": [],
   "source": []
  },
  {
   "cell_type": "code",
   "execution_count": null,
   "id": "4b48716e",
   "metadata": {},
   "outputs": [],
   "source": []
  },
  {
   "cell_type": "code",
   "execution_count": null,
   "id": "2af53395",
   "metadata": {},
   "outputs": [],
   "source": [
    "### Mass function of NY Vir No.1\n",
    "#Parameters\n",
    "a12_sin_i = 0.0151             #[AU]\n",
    "G = 4.30091e-3                  #[pc*M_Solar_mass^(-1)*(km/s)^2]\n",
    "P3_yr = 8.64                    #[yr]\n",
    "P3_s  = P3_yr*365.25*24*60*60   #[s]\n",
    "M_t = 0.59                      #[Solar_mass]\n",
    "#print(P3_s)\n",
    "\n",
    "#Mass function calculation: Unit of Solar mass\n",
    "M3_sin_i3_Ms = (4*((np.pi)**2)*(a12_sin_i**3)*(M_t**2)/(G*206265*(4.44e-17)*(P3_s**2)))**(1/3)\n",
    "print(M3_sin_i3_Ms)\n",
    "\n",
    "            "
   ]
  },
  {
   "cell_type": "code",
   "execution_count": null,
   "id": "b73f526d",
   "metadata": {},
   "outputs": [],
   "source": [
    "### Mass function of NY Vir No.2\n",
    "#Parameters\n",
    "a12_sin_i = 0.0625             #[AU]\n",
    "G = 4.30091e-3                  #[pc*M_Solar_mass^(-1)*(km/s)^2]\n",
    "P3_yr = 24.09                    #[yr]\n",
    "P3_s  = P3_yr*365.25*24*60*60   #[s]\n",
    "M_t = 0.59                      #[Solar_mass]\n",
    "#print(P3_s)\n",
    "\n",
    "#Mass function calculation: Unit of Solar mass\n",
    "M3_sin_i3_Ms = (4*((np.pi)**2)*(a12_sin_i**3)*(M_t**2)/(G*206265*(4.44e-17)*(P3_s**2)))**(1/3)\n",
    "print(M3_sin_i3_Ms)\n",
    "\n",
    "#Mass function calculation: Unit of Jupyter mass\n",
    "M3_sin_i3_Mj = M3_sin_i3_Ms/0.000954265748\n",
    "print(M3_sin_i3_Mj)"
   ]
  },
  {
   "cell_type": "code",
   "execution_count": null,
   "id": "dbb3894a",
   "metadata": {},
   "outputs": [],
   "source": []
  }
 ],
 "metadata": {
  "kernelspec": {
   "display_name": "Python 3 (ipykernel)",
   "language": "python",
   "name": "python3"
  },
  "language_info": {
   "codemirror_mode": {
    "name": "ipython",
    "version": 3
   },
   "file_extension": ".py",
   "mimetype": "text/x-python",
   "name": "python",
   "nbconvert_exporter": "python",
   "pygments_lexer": "ipython3",
   "version": "3.9.7"
  }
 },
 "nbformat": 4,
 "nbformat_minor": 5
}
